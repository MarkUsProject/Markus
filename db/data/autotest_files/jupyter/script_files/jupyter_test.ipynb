{
 "cells": [
  {
   "cell_type": "markdown",
   "id": "bizarre-company",
   "metadata": {},
   "source": [
    "Welcome to your assignment! Do the questions and write the answers in the code cells provided below"
   ]
  },
  {
   "cell_type": "markdown",
   "id": "simplified-northeast",
   "metadata": {},
   "source": [
    "Here's a bit of setup for you"
   ]
  },
  {
   "cell_type": "code",
   "execution_count": 6,
   "id": "racial-pledge",
   "metadata": {},
   "outputs": [],
   "source": [
    "%pylab inline\n",
    "import numpy as np"
   ]
  },
  {
   "cell_type": "markdown",
   "id": "flexible-homeless",
   "metadata": {},
   "source": [
    "Question 1: Create a 100 x 100 nump array filled with random floats and assign it to the variable `a`"
   ]
  },
  {
   "cell_type": "code",
   "execution_count": 3,
   "id": "unnecessary-morrison",
   "metadata": {},
   "outputs": [],
   "source": [
    "a ="
   ]
  },
  {
   "cell_type": "code",
   "execution_count": null,
   "id": "reduced-opera",
   "metadata": {},
   "outputs": [],
   "source": [
    "# test_shape\n",
    "\n",
    "assert a.shape == (100, 100), \"Shape is wrong :(\""
   ]
  },
  {
   "cell_type": "markdown",
   "id": "metallic-commission",
   "metadata": {},
   "source": [
    "Question 2: multiply all values in a by 10 and assign the result to a variable `b`"
   ]
  },
  {
   "cell_type": "code",
   "execution_count": 4,
   "id": "terminal-gamma",
   "metadata": {},
   "outputs": [],
   "source": [
    "b ="
   ]
  },
  {
   "cell_type": "code",
   "execution_count": null,
   "id": "brazilian-privacy",
   "metadata": {},
   "outputs": [],
   "source": [
    "np.testing.assert_allclose(b, a*10)"
   ]
  },
  {
   "cell_type": "markdown",
   "id": "short-vienna",
   "metadata": {},
   "source": [
    "Question 3: plot b as a scatterplot"
   ]
  },
  {
   "cell_type": "code",
   "execution_count": null,
   "id": "alpha-federal",
   "metadata": {},
   "outputs": [],
   "source": []
  }
 ],
 "metadata": {
  "kernelspec": {
   "display_name": "Python 3",
   "language": "python",
   "name": "python3"
  },
  "language_info": {
   "codemirror_mode": {
    "name": "ipython",
    "version": 3
   },
   "file_extension": ".py",
   "mimetype": "text/x-python",
   "name": "python",
   "nbconvert_exporter": "python",
   "pygments_lexer": "ipython3",
   "version": "3.9.0"
  }
 },
 "nbformat": 4,
 "nbformat_minor": 5
}
