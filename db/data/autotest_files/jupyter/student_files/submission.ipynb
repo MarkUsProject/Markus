{
 "cells": [
  {
   "cell_type": "markdown",
   "id": "6920ccbe",
   "metadata": {},
   "source": [
    "Welcome to your assignment! Do the questions and write the answers in the code cells provided below."
   ]
  },
  {
   "cell_type": "markdown",
   "id": "7614a548",
   "metadata": {},
   "source": [
    "Here's a bit of setup for you."
   ]
  },
  {
   "cell_type": "code",
   "execution_count": 6,
   "id": "db8f5c50",
   "metadata": {},
   "outputs": [],
   "source": [
    "%pylab inline\n",
    "import numpy as np"
   ]
  },
  {
   "cell_type": "markdown",
   "id": "75457f5e",
   "metadata": {},
   "source": [
    "Question 1: Create a 100 x 100 numpy array filled with random floats and assign it to the variable `a`."
   ]
  },
  {
   "cell_type": "code",
   "execution_count": 3,
   "id": "97df1cad",
   "metadata": {},
   "outputs": [],
   "source": [
    "# shape is deliberately wrong to demo failing test\n",
    "a = np.random.uniform(size=(100,99))"
   ]
  },
  {
   "cell_type": "markdown",
   "id": "7ce92eaa",
   "metadata": {},
   "source": [
    "Question 2: multiply all values in `a` by 10 and assign the result to a variable `b`."
   ]
  },
  {
   "cell_type": "code",
   "execution_count": 4,
   "id": "4a5375bc",
   "metadata": {},
   "outputs": [],
   "source": [
    "b = a*10"
   ]
  },
  {
   "cell_type": "markdown",
   "id": "92fc011c",
   "metadata": {},
   "source": [
    "Question 3: plot `b` as a scatterplot."
   ]
  },
  {
   "cell_type": "code",
   "execution_count": null,
   "id": "b27f3af2",
   "metadata": {},
   "outputs": [],
   "source": [
    "plt.plot(*b, 'o', color='black');"
   ]
  }
 ],
 "metadata": {
  "kernelspec": {
   "display_name": "Python 3",
   "language": "python",
   "name": "python3"
  },
  "language_info": {
   "codemirror_mode": {
    "name": "ipython",
    "version": 3
   },
   "file_extension": ".py",
   "mimetype": "text/x-python",
   "name": "python",
   "nbconvert_exporter": "python",
   "pygments_lexer": "ipython3",
   "version": "3.9.0"
  }
 },
 "nbformat": 4,
 "nbformat_minor": 5
}
