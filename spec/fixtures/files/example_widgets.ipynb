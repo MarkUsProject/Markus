{
  "nbformat": 4,
  "nbformat_minor": 0,
  "metadata": {
    "colab": {
      "provenance": []
    },
    "kernelspec": {
      "name": "python3",
      "display_name": "Python 3"
    },
    "language_info": {
      "name": "python"
    },
    "widgets": {
      "application/vnd.jupyter.widget-state+json": {
      }
    }
  },
  "cells": [
    {
      "cell_type": "code",
      "source": [
      ],
      "metadata": {
        "id": "wekaZO6DYWz6",
        "colab": {
          "base_uri": "https://localhost:8080/",
          "height": 1000
        },
        "outputId": "990f2494-5ca0-442f-ba8d-f7a31bd463e4"
      },
      "execution_count": 17,
      "outputs": [
        {
          "output_type": "display_data",
          "data": {
            "text/plain": [
              "Training:   0%|          | 0/1000 [00:00<?, ?it/s]"
            ],
            "application/vnd.jupyter.widget-view+json": {
              "version_major": 2,
              "version_minor": 0,
              "model_id": "92b45d943b9e4c83b50bb2c83505e80d"
            }
          },
          "metadata": {}
        }
      ]
    }
  ]
}
